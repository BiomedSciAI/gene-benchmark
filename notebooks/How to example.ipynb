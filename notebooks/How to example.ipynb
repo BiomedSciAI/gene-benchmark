{
 "cells": [
  {
   "cell_type": "code",
   "execution_count": 1,
   "metadata": {},
   "outputs": [],
   "source": [
    "import warnings\n",
    "\n",
    "warnings.filterwarnings(\"ignore\")\n",
    "import pandas as pd\n",
    "\n",
    "from gene_benchmark.descriptor import NCBIDescriptor\n",
    "from gene_benchmark.encoder import SentenceTransformerEncoder\n",
    "from gene_benchmark.tasks import EntitiesTask"
   ]
  },
  {
   "cell_type": "markdown",
   "metadata": {},
   "source": [
    "# Create embeddings & descriptions\n",
    "This package enables turning biological text data and encoding it numerically using language models. The package also includes means to retrieve biological data.\n",
    "See the README about further details about creation of descriptions and encoding"
   ]
  },
  {
   "cell_type": "code",
   "execution_count": 2,
   "metadata": {},
   "outputs": [
    {
     "name": "stdout",
     "output_type": "stream",
     "text": [
      "Gene symbol BRCA1 full name BRCA1 DNA repair associated with the summary This gene encodes a 190 kD nuclear phosphoprotein that plays a role in maintaining genomic stability, and it also acts as a tumor suppressor. The BRCA1 gene contains 22 exons spanning about 110 kb of DNA. The encoded protein combines with other tumor suppressors, DNA damage sensors, and signal transducers to form a large multi-subunit protein complex known as the BRCA1-associated genome surveillance complex (BASC). This gene product associates with RNA polymerase II, and through the C-terminal domain, also interacts with histone deacetylase complexes. This protein thus plays a role in transcription, DNA repair of double-stranded breaks, and recombination. Mutations in this gene are responsible for approximately 40% of inherited breast cancers and more than 80% of inherited breast and ovarian cancers. Alternative splicing plays a role in modulating the subcellular localization and physiological function of this gene. Many alternatively spliced transcript variants, some of which are disease-associated mutations, have been described for this gene, but the full-length natures of only some of these variants has been described. A related pseudogene, which is also located on chromosome 17, has been identified. [provided by RefSeq, May 2020].\n"
     ]
    }
   ],
   "source": [
    "prompts_maker = NCBIDescriptor()\n",
    "prompts = prompts_maker.describe(entities=pd.Series([\"BRCA1\", \"FOSL2\"]))\n",
    "print(prompts.loc[0])"
   ]
  },
  {
   "cell_type": "markdown",
   "metadata": {},
   "source": [
    "We can look at the object summary"
   ]
  },
  {
   "cell_type": "code",
   "execution_count": 3,
   "metadata": {},
   "outputs": [
    {
     "name": "stdout",
     "output_type": "stream",
     "text": [
      "{'allow_partial': False, 'allow_missing': True, 'description class': 'NCBIDescriptor', 'num_missing_entities': 0, 'description columns': 'summary,name,symbol'}\n"
     ]
    }
   ],
   "source": [
    "print(prompts_maker.summary())"
   ]
  },
  {
   "cell_type": "markdown",
   "metadata": {},
   "source": [
    "Now we can take the text and encode it"
   ]
  },
  {
   "cell_type": "code",
   "execution_count": 4,
   "metadata": {},
   "outputs": [
    {
     "name": "stdout",
     "output_type": "stream",
     "text": [
      "0    [0.018238682, -0.090244554, -0.02368962, -0.03...\n",
      "1    [-0.008200348, -0.089555584, -0.03201792, -0.0...\n",
      "dtype: object\n"
     ]
    }
   ],
   "source": [
    "mpnet_name = \"sentence-transformers/all-mpnet-base-v2\"\n",
    "single_symbol_encoding = SentenceTransformerEncoder(mpnet_name)\n",
    "encoding = single_symbol_encoding.encode(prompts)\n",
    "print(encoding)"
   ]
  },
  {
   "cell_type": "markdown",
   "metadata": {},
   "source": [
    "We can look at the encoder summary"
   ]
  },
  {
   "cell_type": "code",
   "execution_count": 5,
   "metadata": {},
   "outputs": [
    {
     "name": "stdout",
     "output_type": "stream",
     "text": [
      "{'encoder class': 'SentenceTransformerEncoder', 'encoder_model_name': 'sentence-transformers/all-mpnet-base-v2'}\n"
     ]
    }
   ],
   "source": [
    "print(single_symbol_encoding.summary())"
   ]
  },
  {
   "cell_type": "markdown",
   "metadata": {},
   "source": [
    "The package comes with a set of sum pre-defined tasks with entities and outcomes and a pipeline object to go from entities (currently just one gene symbol) to prompt to embeddings. Following is a simple example:"
   ]
  },
  {
   "cell_type": "code",
   "execution_count": 6,
   "metadata": {},
   "outputs": [
    {
     "name": "stdout",
     "output_type": "stream",
     "text": [
      "{'fit_time': array([0.0275681 , 0.02069569, 0.02062321, 0.05764556, 0.02548075]), 'score_time': array([0.00319576, 0.00227213, 0.00226951, 0.00228214, 0.00228786]), 'estimator': [LogisticRegression(max_iter=2000), LogisticRegression(max_iter=2000), LogisticRegression(max_iter=2000), LogisticRegression(max_iter=2000), LogisticRegression(max_iter=2000)], 'test_roc_auc': array([0.48      , 0.33760684, 0.38034188, 0.53418803, 0.64444444])}\n"
     ]
    }
   ],
   "source": [
    "biolink_name = \"pritamdeka/BioBERT-mnli-snli-scinli-scitail-mednli-stsb\"\n",
    "task = EntitiesTask(\n",
    "    \"long vs short range TF\", encoder=biolink_name, description_builder=NCBIDescriptor()\n",
    ")\n",
    "res = task.run()\n",
    "print(res)"
   ]
  },
  {
   "cell_type": "markdown",
   "metadata": {},
   "source": [
    "# Existing tasks\n",
    "See the readme for further details about the tasks."
   ]
  },
  {
   "cell_type": "code",
   "execution_count": 7,
   "metadata": {},
   "outputs": [
    {
     "data": {
      "text/plain": [
       "{'task_name': 'long vs short range TF',\n",
       " 'base_prediction_model': 'LogisticRegression(max_iter=2000)',\n",
       " 'sample_size': 174,\n",
       " 'class_sizes': '128,46',\n",
       " 'classes_names': 'short_range,long_range',\n",
       " 'allow_partial': False,\n",
       " 'allow_missing': True,\n",
       " 'description class': 'NCBIDescriptor',\n",
       " 'num_missing_entities': 0,\n",
       " 'description columns': 'summary,name,symbol',\n",
       " 'encoder class': 'SentenceTransformerEncoder',\n",
       " 'encoder_model_name': 'sentence-transformers/all-mpnet-base-v2',\n",
       " 'test_roc_auc': '0.664,0.2222222222222222,0.42735042735042733,0.26495726495726496,0.3288888888888889',\n",
       " 'mean_roc_auc': 0.38148376068376066,\n",
       " 'sd_roc_auc': 0.15724379731299665,\n",
       " 'exclude_symbols_num': 0,\n",
       " 'model_name': None}"
      ]
     },
     "execution_count": 7,
     "metadata": {},
     "output_type": "execute_result"
    }
   ],
   "source": [
    "task = EntitiesTask(\n",
    "    task=\"long vs short range TF\",\n",
    "    description_builder=prompts_maker,\n",
    "    encoder=SentenceTransformerEncoder(mpnet_name),\n",
    ")\n",
    "_ = task.run()\n",
    "task.summary()"
   ]
  }
 ],
 "metadata": {
  "kernelspec": {
   "display_name": "plm",
   "language": "python",
   "name": "python3"
  },
  "language_info": {
   "codemirror_mode": {
    "name": "ipython",
    "version": 3
   },
   "file_extension": ".py",
   "mimetype": "text/x-python",
   "name": "python",
   "nbconvert_exporter": "python",
   "pygments_lexer": "ipython3",
   "version": "3.10.0"
  }
 },
 "nbformat": 4,
 "nbformat_minor": 2
}
