{
 "cells": [
  {
   "cell_type": "code",
   "execution_count": null,
   "metadata": {},
   "outputs": [],
   "source": [
    "import warnings\n",
    "\n",
    "warnings.filterwarnings(\"ignore\")\n",
    "import pandas as pd\n",
    "\n",
    "from gene_benchmark.descriptor import NCBIDescriptor,BasePairDescriptor\n",
    "from gene_benchmark.encoder import SentenceTransformerEncoder\n",
    "from gene_benchmark.tasks import EntitiesTask"
   ]
  },
  {
   "cell_type": "markdown",
   "metadata": {},
   "source": [
    "# Create embeddings & descriptions\n",
    "This package enables turning biological text data and encoding it numerically using language models. The package also includes means to retrieve biological data.\n",
    "See the README about further details about creation of descriptions and encoding"
   ]
  },
  {
   "cell_type": "code",
   "execution_count": null,
   "metadata": {},
   "outputs": [],
   "source": [
    "prompts_maker = NCBIDescriptor()\n",
    "prompts = prompts_maker.describe(entities=pd.Series([\"BRCA1\", \"FOSL2\"]))\n",
    "print(prompts.loc[0])"
   ]
  },
  {
   "cell_type": "markdown",
   "metadata": {},
   "source": [
    "We can look at the object summary"
   ]
  },
  {
   "cell_type": "code",
   "execution_count": null,
   "metadata": {},
   "outputs": [],
   "source": [
    "print(prompts_maker.summary())"
   ]
  },
  {
   "cell_type": "code",
   "execution_count": null,
   "metadata": {},
   "outputs": [],
   "source": [
    "bp = BasePairDescriptor()\n",
    "bp.describe(pd.Series(\"TMEM92\"))\n"
   ]
  },
  {
   "cell_type": "markdown",
   "metadata": {},
   "source": [
    "Now we can take the text and encode it"
   ]
  },
  {
   "cell_type": "code",
   "execution_count": null,
   "metadata": {},
   "outputs": [],
   "source": [
    "prompts = pd.Series([\"ACTG\"])"
   ]
  },
  {
   "cell_type": "code",
   "execution_count": null,
   "metadata": {},
   "outputs": [],
   "source": [
    "import os\n",
    "\n",
    "\n",
    "mpnet_name = \"sentence-transformers/all-mpnet-base-v2\"\n",
    "mpnet_name =  \"dsfsi/simcse-dna\"\n",
    "#mpnet_name =  \"tydymy/DNABERT-2-117M-finetuned-human-150bp-dna-classification\"\n",
    "single_symbol_encoding = SentenceTransformerEncoder(mpnet_name)\n",
    "encoding = single_symbol_encoding.encode(prompts)\n",
    "print(encoding)"
   ]
  },
  {
   "cell_type": "markdown",
   "metadata": {},
   "source": [
    "We can look at the encoder summary"
   ]
  },
  {
   "cell_type": "code",
   "execution_count": null,
   "metadata": {},
   "outputs": [],
   "source": [
    "print(single_symbol_encoding.summary())"
   ]
  },
  {
   "cell_type": "markdown",
   "metadata": {},
   "source": [
    "The package comes with a set of sum pre-defined tasks with entities and outcomes and a pipeline object to go from entities (currently just one gene symbol) to prompt to embeddings. Following is a simple example:"
   ]
  },
  {
   "cell_type": "code",
   "execution_count": null,
   "metadata": {},
   "outputs": [],
   "source": [
    "biolink_name = \"pritamdeka/BioBERT-mnli-snli-scinli-scitail-mednli-stsb\"\n",
    "task = EntitiesTask(\n",
    "    \"long vs short range TF\", encoder=biolink_name, description_builder=NCBIDescriptor()\n",
    ")\n",
    "res = task.run()\n",
    "print(res)"
   ]
  },
  {
   "cell_type": "markdown",
   "metadata": {},
   "source": [
    "# Existing tasks\n",
    "See the readme for further details about the tasks."
   ]
  },
  {
   "cell_type": "code",
   "execution_count": null,
   "metadata": {},
   "outputs": [],
   "source": [
    "task = EntitiesTask(\n",
    "    task=\"long vs short range TF\",\n",
    "    description_builder=prompts_maker,\n",
    "    encoder=SentenceTransformerEncoder(mpnet_name),\n",
    ")\n",
    "_ = task.run()\n",
    "task.summary()"
   ]
  }
 ],
 "metadata": {
  "kernelspec": {
   "display_name": "plm",
   "language": "python",
   "name": "python3"
  },
  "language_info": {
   "codemirror_mode": {
    "name": "ipython",
    "version": 3
   },
   "file_extension": ".py",
   "mimetype": "text/x-python",
   "name": "python",
   "nbconvert_exporter": "python",
   "pygments_lexer": "ipython3",
   "version": "3.10.0"
  }
 },
 "nbformat": 4,
 "nbformat_minor": 2
}
