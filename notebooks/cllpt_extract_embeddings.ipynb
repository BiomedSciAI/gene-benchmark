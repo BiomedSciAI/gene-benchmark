{
 "cells": [
  {
   "cell_type": "markdown",
   "metadata": {},
   "source": [
    "# cellPT embedding extraction\n"
   ]
  },
  {
   "cell_type": "markdown",
   "metadata": {},
   "source": [
    "paper can be found in \n",
    "https://www.biorxiv.org/content/10.1101/2023.10.03.560734v1.full \n",
    "the data code section point to \n",
    "github in https://github.com/OmicsML/CellPLM\n",
    "There, the the readme at \n",
    "https://github.com/OmicsML/CellPLM/blob/main/ckpt/README.md \n",
    "directs us to the dropBox folder for down loading the check-point:\n",
    "https://www.dropbox.com/scl/fo/i5rmxgtqzg7iykt2e9uqm/h?rlkey=o8hi0xads9ol07o48jdityzv1&e=1&dl=0\n",
    "and this is where the models have been downloaded from\n",
    "\n"
   ]
  },
  {
   "cell_type": "code",
   "execution_count": 1,
   "metadata": {},
   "outputs": [],
   "source": [
    "import json\n",
    "\n",
    "import pandas as pd\n",
    "import torch"
   ]
  },
  {
   "cell_type": "markdown",
   "metadata": {},
   "source": [
    "Where was the model saved?"
   ]
  },
  {
   "cell_type": "code",
   "execution_count": 2,
   "metadata": {},
   "outputs": [],
   "source": [
    "model_dict = \".\"\n",
    "model_file = f\"{model_dict}/20230926_85M.best.ckpt\"\n",
    "model_config_file = f\"{model_dict}/20230926_85M.config.json\""
   ]
  },
  {
   "cell_type": "markdown",
   "metadata": {},
   "source": [
    "Load the config and the model"
   ]
  },
  {
   "cell_type": "code",
   "execution_count": 3,
   "metadata": {},
   "outputs": [],
   "source": [
    "with open(model_config_file) as f:\n",
    "    model_configs = json.load(f)\n",
    "\n",
    "model = torch.load(model_file, map_location=torch.device(\"cpu\"))"
   ]
  },
  {
   "cell_type": "markdown",
   "metadata": {},
   "source": [
    "read the gene list from the config"
   ]
  },
  {
   "cell_type": "code",
   "execution_count": 4,
   "metadata": {},
   "outputs": [
    {
     "data": {
      "text/plain": [
       "19374"
      ]
     },
     "execution_count": 4,
     "metadata": {},
     "output_type": "execute_result"
    }
   ],
   "source": [
    "gene_list = model_configs[\"gene_list\"]\n",
    "len(gene_list)"
   ]
  },
  {
   "cell_type": "markdown",
   "metadata": {},
   "source": [
    "Find the name of the encoding layer"
   ]
  },
  {
   "cell_type": "code",
   "execution_count": 5,
   "metadata": {},
   "outputs": [
    {
     "name": "stdout",
     "output_type": "stream",
     "text": [
      "embedder.feat_enc.emb - torch.Size([19374, 1024])\n",
      "decoder.out_layer.dec_disp - torch.Size([19374])\n",
      "decoder.out_layer.dec_mean.0.weight - torch.Size([19374, 128])\n",
      "decoder.out_layer.dec_mean.0.bias - torch.Size([19374])\n"
     ]
    }
   ],
   "source": [
    "for f in model[\"model_state_dict\"].keys():\n",
    "    s = model[\"model_state_dict\"][f].shape\n",
    "    if len(gene_list) in s:\n",
    "        print(f\"{f} - {s}\")"
   ]
  },
  {
   "cell_type": "markdown",
   "metadata": {},
   "source": [
    "The encoding layer has a shape of `[num genes, embedding width]`.\n",
    "\n",
    "The number of genes is the length of the list of gene names, so 19374\n",
    "\n",
    "the enbedding with here is 1024\n",
    "\n",
    "The name of the embedding layer is therefor `embedder.feat_enc.emb"
   ]
  },
  {
   "cell_type": "code",
   "execution_count": 6,
   "metadata": {},
   "outputs": [],
   "source": [
    "embedding_layer = \"embedder.feat_enc.emb\""
   ]
  },
  {
   "cell_type": "markdown",
   "metadata": {},
   "source": [
    "Verify"
   ]
  },
  {
   "cell_type": "code",
   "execution_count": 7,
   "metadata": {},
   "outputs": [
    {
     "data": {
      "text/plain": [
       "torch.Size([19374, 1024])"
      ]
     },
     "execution_count": 7,
     "metadata": {},
     "output_type": "execute_result"
    }
   ],
   "source": [
    "model[\"model_state_dict\"][embedding_layer].shape"
   ]
  },
  {
   "cell_type": "markdown",
   "metadata": {},
   "source": [
    "load the tensor"
   ]
  },
  {
   "cell_type": "code",
   "execution_count": 8,
   "metadata": {},
   "outputs": [],
   "source": [
    "encodings_torch = model[\"model_state_dict\"][embedding_layer]"
   ]
  },
  {
   "cell_type": "markdown",
   "metadata": {},
   "source": [
    "Convert to numpy format"
   ]
  },
  {
   "cell_type": "code",
   "execution_count": 9,
   "metadata": {},
   "outputs": [],
   "source": [
    "encodings_numpy = encodings_torch.numpy()"
   ]
  },
  {
   "cell_type": "markdown",
   "metadata": {},
   "source": [
    "Convert to pandas datafreame and attach the gene names as index "
   ]
  },
  {
   "cell_type": "code",
   "execution_count": 10,
   "metadata": {},
   "outputs": [],
   "source": [
    "encodings_df = pd.DataFrame(encodings_numpy, index=gene_list)"
   ]
  },
  {
   "cell_type": "markdown",
   "metadata": {},
   "source": [
    "Take a peek at the encodings we got:"
   ]
  },
  {
   "cell_type": "code",
   "execution_count": 11,
   "metadata": {},
   "outputs": [
    {
     "data": {
      "text/html": [
       "<div>\n",
       "<style scoped>\n",
       "    .dataframe tbody tr th:only-of-type {\n",
       "        vertical-align: middle;\n",
       "    }\n",
       "\n",
       "    .dataframe tbody tr th {\n",
       "        vertical-align: top;\n",
       "    }\n",
       "\n",
       "    .dataframe thead th {\n",
       "        text-align: right;\n",
       "    }\n",
       "</style>\n",
       "<table border=\"1\" class=\"dataframe\">\n",
       "  <thead>\n",
       "    <tr style=\"text-align: right;\">\n",
       "      <th></th>\n",
       "      <th>0</th>\n",
       "      <th>1</th>\n",
       "      <th>2</th>\n",
       "      <th>3</th>\n",
       "      <th>4</th>\n",
       "      <th>5</th>\n",
       "      <th>6</th>\n",
       "      <th>7</th>\n",
       "      <th>8</th>\n",
       "      <th>9</th>\n",
       "      <th>...</th>\n",
       "      <th>1014</th>\n",
       "      <th>1015</th>\n",
       "      <th>1016</th>\n",
       "      <th>1017</th>\n",
       "      <th>1018</th>\n",
       "      <th>1019</th>\n",
       "      <th>1020</th>\n",
       "      <th>1021</th>\n",
       "      <th>1022</th>\n",
       "      <th>1023</th>\n",
       "    </tr>\n",
       "  </thead>\n",
       "  <tbody>\n",
       "    <tr>\n",
       "      <th>ENSG00000000003</th>\n",
       "      <td>-0.008848</td>\n",
       "      <td>0.013859</td>\n",
       "      <td>-0.027063</td>\n",
       "      <td>-0.104422</td>\n",
       "      <td>0.052641</td>\n",
       "      <td>0.065944</td>\n",
       "      <td>-0.047289</td>\n",
       "      <td>0.059768</td>\n",
       "      <td>0.010998</td>\n",
       "      <td>0.046967</td>\n",
       "      <td>...</td>\n",
       "      <td>0.035736</td>\n",
       "      <td>-0.035231</td>\n",
       "      <td>0.021889</td>\n",
       "      <td>-0.051488</td>\n",
       "      <td>0.035529</td>\n",
       "      <td>0.028316</td>\n",
       "      <td>0.111450</td>\n",
       "      <td>-0.058094</td>\n",
       "      <td>-0.107816</td>\n",
       "      <td>0.034028</td>\n",
       "    </tr>\n",
       "    <tr>\n",
       "      <th>ENSG00000000005</th>\n",
       "      <td>0.100041</td>\n",
       "      <td>0.072579</td>\n",
       "      <td>0.082818</td>\n",
       "      <td>-0.041926</td>\n",
       "      <td>-0.002070</td>\n",
       "      <td>0.192488</td>\n",
       "      <td>-0.123851</td>\n",
       "      <td>0.168363</td>\n",
       "      <td>0.010028</td>\n",
       "      <td>0.023776</td>\n",
       "      <td>...</td>\n",
       "      <td>0.149555</td>\n",
       "      <td>0.039148</td>\n",
       "      <td>0.096405</td>\n",
       "      <td>0.031752</td>\n",
       "      <td>0.053479</td>\n",
       "      <td>-0.113100</td>\n",
       "      <td>-0.028484</td>\n",
       "      <td>-0.002721</td>\n",
       "      <td>-0.163965</td>\n",
       "      <td>0.090251</td>\n",
       "    </tr>\n",
       "    <tr>\n",
       "      <th>ENSG00000000419</th>\n",
       "      <td>0.051549</td>\n",
       "      <td>-0.039285</td>\n",
       "      <td>-0.037895</td>\n",
       "      <td>0.017505</td>\n",
       "      <td>0.033906</td>\n",
       "      <td>0.033948</td>\n",
       "      <td>-0.010280</td>\n",
       "      <td>-0.037145</td>\n",
       "      <td>-0.043533</td>\n",
       "      <td>-0.026587</td>\n",
       "      <td>...</td>\n",
       "      <td>0.021369</td>\n",
       "      <td>-0.044248</td>\n",
       "      <td>0.024618</td>\n",
       "      <td>0.002664</td>\n",
       "      <td>-0.094070</td>\n",
       "      <td>0.038673</td>\n",
       "      <td>0.034113</td>\n",
       "      <td>0.038242</td>\n",
       "      <td>0.099450</td>\n",
       "      <td>0.041229</td>\n",
       "    </tr>\n",
       "  </tbody>\n",
       "</table>\n",
       "<p>3 rows × 1024 columns</p>\n",
       "</div>"
      ],
      "text/plain": [
       "                     0         1         2         3         4         5     \\\n",
       "ENSG00000000003 -0.008848  0.013859 -0.027063 -0.104422  0.052641  0.065944   \n",
       "ENSG00000000005  0.100041  0.072579  0.082818 -0.041926 -0.002070  0.192488   \n",
       "ENSG00000000419  0.051549 -0.039285 -0.037895  0.017505  0.033906  0.033948   \n",
       "\n",
       "                     6         7         8         9     ...      1014  \\\n",
       "ENSG00000000003 -0.047289  0.059768  0.010998  0.046967  ...  0.035736   \n",
       "ENSG00000000005 -0.123851  0.168363  0.010028  0.023776  ...  0.149555   \n",
       "ENSG00000000419 -0.010280 -0.037145 -0.043533 -0.026587  ...  0.021369   \n",
       "\n",
       "                     1015      1016      1017      1018      1019      1020  \\\n",
       "ENSG00000000003 -0.035231  0.021889 -0.051488  0.035529  0.028316  0.111450   \n",
       "ENSG00000000005  0.039148  0.096405  0.031752  0.053479 -0.113100 -0.028484   \n",
       "ENSG00000000419 -0.044248  0.024618  0.002664 -0.094070  0.038673  0.034113   \n",
       "\n",
       "                     1021      1022      1023  \n",
       "ENSG00000000003 -0.058094 -0.107816  0.034028  \n",
       "ENSG00000000005 -0.002721 -0.163965  0.090251  \n",
       "ENSG00000000419  0.038242  0.099450  0.041229  \n",
       "\n",
       "[3 rows x 1024 columns]"
      ]
     },
     "execution_count": 11,
     "metadata": {},
     "output_type": "execute_result"
    }
   ],
   "source": [
    "encodings_df.iloc[0:3]"
   ]
  },
  {
   "cell_type": "markdown",
   "metadata": {},
   "source": [
    "looks right"
   ]
  },
  {
   "cell_type": "markdown",
   "metadata": {},
   "source": [
    "save to a csv file (this may be a little slow, but probably less then a minute)"
   ]
  },
  {
   "cell_type": "code",
   "execution_count": 12,
   "metadata": {},
   "outputs": [],
   "source": [
    "output_file_name = \"./20230926_85M_encoding.csv\"\n",
    "encodings_df.to_csv(output_file_name)"
   ]
  },
  {
   "cell_type": "markdown",
   "metadata": {},
   "source": [
    "And we are done."
   ]
  }
 ],
 "metadata": {
  "kernelspec": {
   "display_name": "Python 3 (ipykernel)",
   "language": "python",
   "name": "python3"
  },
  "language_info": {
   "codemirror_mode": {
    "name": "ipython",
    "version": 3
   },
   "file_extension": ".py",
   "mimetype": "text/x-python",
   "name": "python",
   "nbconvert_exporter": "python",
   "pygments_lexer": "ipython3",
   "version": "3.10.14"
  }
 },
 "nbformat": 4,
 "nbformat_minor": 4
}
